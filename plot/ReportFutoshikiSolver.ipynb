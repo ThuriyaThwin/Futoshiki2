{
 "cells": [
  {
   "cell_type": "markdown",
   "metadata": {},
   "source": [
    "# Perguntas para serem sanadas com os experimentos\n",
    "1. Qual heurística encontrou mais soluções?\n",
    "2. Qual a melhor heurística em termos de quantidade de atribuição de valores\n",
    "3. Para o problema do Futoshiki e levando em consideração os casos de teste executados, vale a pena utilizar alguma heurística para corte? Levando em consideração o tempo de processamento e a quantidade de atribuições.\n",
    "4. Existe algum padrão entre quantidade de restrições e solução do problema?\n",
    "\n",
    "#### Heurísticas\n",
    "\n",
    "0 - Backtracking sem poda\n",
    "\n",
    "1 - Backtracking com verificação adiante\n",
    "\n",
    "2 - Backtracking com MVR + Verificação adiante\n",
    "\n",
    "3 - Backtracking com MVR + Verificação adiante + Grau (para desempate)\n",
    "\n",
    "4 - Backtracking com MVR (Valores válidos) + Verificação adiante + Grau (para desempate)"
   ]
  },
  {
   "cell_type": "code",
   "execution_count": 9,
   "metadata": {},
   "outputs": [],
   "source": [
    "import pandas as pd\n",
    "import numpy as np\n",
    "import matplotlib.pyplot as plt"
   ]
  },
  {
   "cell_type": "code",
   "execution_count": 146,
   "metadata": {},
   "outputs": [
    {
     "data": {
      "image/png": "[encoded data removed]",
      "text/plain": [
       "<Figure size 432x288 with 1 Axes>"
      ]
     },
     "metadata": {},
     "output_type": "display_data"
    }
   ],
   "source": [
    "# Read the csv file\n",
    "df = pd.read_csv(\"report.csv\")\n",
    "\n",
    "df1 = df[df.solutionFound==True].groupby(['heuristicType'])[['solutionFound']].count()\n",
    "df1.rename(columns={'0': 'BT', '1': 'BT+FC', '2': 'BT+MRV1+FC', '3': 'BT+MRV2+FC', '4': 'BT+MRV3+FC'}, inplace=True)\n",
    "\n",
    "#print(df1)\n",
    "\n",
    "df1.plot(kind='bar', title='Quantidade de soluções encontradas', ylim=(0,100), color='kmbrg', legend=False)\n",
    "\n",
    "plt.axhline(y=50, color='y', label='Average', linestyle='--', linewidth=2)\n",
    "plt.xlabel(\"Heurística utilizada\")\n",
    "plt.ylabel(\"Quantidade de casos\")\n",
    "plt.show()"
   ]
  },
  {
   "cell_type": "code",
   "execution_count": null,
   "metadata": {},
   "outputs": [],
   "source": []
  }
 ],
 "metadata": {
  "kernelspec": {
   "display_name": "Python 3",
   "language": "python",
   "name": "python3"
  },
  "language_info": {
   "codemirror_mode": {
    "name": "ipython",
    "version": 3
   },
   "file_extension": ".py",
   "mimetype": "text/x-python",
   "name": "python",
   "nbconvert_exporter": "python",
   "pygments_lexer": "ipython3",
   "version": "3.5.2"
  }
 },
 "nbformat": 4,
 "nbformat_minor": 2
}
